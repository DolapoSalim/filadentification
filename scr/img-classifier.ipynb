{
 "cells": [
  {
   "cell_type": "markdown",
   "id": "fc83c562",
   "metadata": {},
   "source": [
    "## 1. Setup and Load Data\n",
    "#### Install Dependencies and Setup"
   ]
  },
  {
   "cell_type": "code",
   "execution_count": 1,
   "id": "5593525b",
   "metadata": {},
   "outputs": [
    {
     "name": "stdout",
     "output_type": "stream",
     "text": [
      "Requirement already satisfied: tensorflow in /home/dolaposalim/tensorflow-env/lib/python3.12/site-packages (2.19.0)\n",
      "Requirement already satisfied: opencv-python in /home/dolaposalim/tensorflow-env/lib/python3.12/site-packages (4.11.0.86)\n",
      "Requirement already satisfied: matplotlib in /home/dolaposalim/tensorflow-env/lib/python3.12/site-packages (3.10.1)\n",
      "Requirement already satisfied: absl-py>=1.0.0 in /home/dolaposalim/tensorflow-env/lib/python3.12/site-packages (from tensorflow) (2.2.2)\n",
      "Requirement already satisfied: astunparse>=1.6.0 in /home/dolaposalim/tensorflow-env/lib/python3.12/site-packages (from tensorflow) (1.6.3)\n",
      "Requirement already satisfied: flatbuffers>=24.3.25 in /home/dolaposalim/tensorflow-env/lib/python3.12/site-packages (from tensorflow) (25.2.10)\n",
      "Requirement already satisfied: gast!=0.5.0,!=0.5.1,!=0.5.2,>=0.2.1 in /home/dolaposalim/tensorflow-env/lib/python3.12/site-packages (from tensorflow) (0.6.0)\n",
      "Requirement already satisfied: google-pasta>=0.1.1 in /home/dolaposalim/tensorflow-env/lib/python3.12/site-packages (from tensorflow) (0.2.0)\n",
      "Requirement already satisfied: libclang>=13.0.0 in /home/dolaposalim/tensorflow-env/lib/python3.12/site-packages (from tensorflow) (18.1.1)\n",
      "Requirement already satisfied: opt-einsum>=2.3.2 in /home/dolaposalim/tensorflow-env/lib/python3.12/site-packages (from tensorflow) (3.4.0)\n",
      "Requirement already satisfied: packaging in /home/dolaposalim/tensorflow-env/lib/python3.12/site-packages (from tensorflow) (24.2)\n",
      "Requirement already satisfied: protobuf!=4.21.0,!=4.21.1,!=4.21.2,!=4.21.3,!=4.21.4,!=4.21.5,<6.0.0dev,>=3.20.3 in /home/dolaposalim/tensorflow-env/lib/python3.12/site-packages (from tensorflow) (5.29.4)\n",
      "Requirement already satisfied: requests<3,>=2.21.0 in /home/dolaposalim/tensorflow-env/lib/python3.12/site-packages (from tensorflow) (2.32.3)\n",
      "Requirement already satisfied: setuptools in /home/dolaposalim/tensorflow-env/lib/python3.12/site-packages (from tensorflow) (78.1.0)\n",
      "Requirement already satisfied: six>=1.12.0 in /home/dolaposalim/tensorflow-env/lib/python3.12/site-packages (from tensorflow) (1.17.0)\n",
      "Requirement already satisfied: termcolor>=1.1.0 in /home/dolaposalim/tensorflow-env/lib/python3.12/site-packages (from tensorflow) (3.0.1)\n",
      "Requirement already satisfied: typing-extensions>=3.6.6 in /home/dolaposalim/tensorflow-env/lib/python3.12/site-packages (from tensorflow) (4.13.2)\n",
      "Requirement already satisfied: wrapt>=1.11.0 in /home/dolaposalim/tensorflow-env/lib/python3.12/site-packages (from tensorflow) (1.17.2)\n",
      "Requirement already satisfied: grpcio<2.0,>=1.24.3 in /home/dolaposalim/tensorflow-env/lib/python3.12/site-packages (from tensorflow) (1.71.0)\n",
      "Requirement already satisfied: tensorboard~=2.19.0 in /home/dolaposalim/tensorflow-env/lib/python3.12/site-packages (from tensorflow) (2.19.0)\n",
      "Requirement already satisfied: keras>=3.5.0 in /home/dolaposalim/tensorflow-env/lib/python3.12/site-packages (from tensorflow) (3.9.2)\n",
      "Requirement already satisfied: numpy<2.2.0,>=1.26.0 in /home/dolaposalim/tensorflow-env/lib/python3.12/site-packages (from tensorflow) (2.1.3)\n",
      "Requirement already satisfied: h5py>=3.11.0 in /home/dolaposalim/tensorflow-env/lib/python3.12/site-packages (from tensorflow) (3.13.0)\n",
      "Requirement already satisfied: ml-dtypes<1.0.0,>=0.5.1 in /home/dolaposalim/tensorflow-env/lib/python3.12/site-packages (from tensorflow) (0.5.1)\n",
      "Requirement already satisfied: contourpy>=1.0.1 in /home/dolaposalim/tensorflow-env/lib/python3.12/site-packages (from matplotlib) (1.3.2)\n",
      "Requirement already satisfied: cycler>=0.10 in /home/dolaposalim/tensorflow-env/lib/python3.12/site-packages (from matplotlib) (0.12.1)\n",
      "Requirement already satisfied: fonttools>=4.22.0 in /home/dolaposalim/tensorflow-env/lib/python3.12/site-packages (from matplotlib) (4.57.0)\n",
      "Requirement already satisfied: kiwisolver>=1.3.1 in /home/dolaposalim/tensorflow-env/lib/python3.12/site-packages (from matplotlib) (1.4.8)\n",
      "Requirement already satisfied: pillow>=8 in /home/dolaposalim/tensorflow-env/lib/python3.12/site-packages (from matplotlib) (11.2.1)\n",
      "Requirement already satisfied: pyparsing>=2.3.1 in /home/dolaposalim/tensorflow-env/lib/python3.12/site-packages (from matplotlib) (3.2.3)\n",
      "Requirement already satisfied: python-dateutil>=2.7 in /home/dolaposalim/tensorflow-env/lib/python3.12/site-packages (from matplotlib) (2.9.0.post0)\n",
      "Requirement already satisfied: wheel<1.0,>=0.23.0 in /home/dolaposalim/tensorflow-env/lib/python3.12/site-packages (from astunparse>=1.6.0->tensorflow) (0.45.1)\n",
      "Requirement already satisfied: rich in /home/dolaposalim/tensorflow-env/lib/python3.12/site-packages (from keras>=3.5.0->tensorflow) (14.0.0)\n",
      "Requirement already satisfied: namex in /home/dolaposalim/tensorflow-env/lib/python3.12/site-packages (from keras>=3.5.0->tensorflow) (0.0.8)\n",
      "Requirement already satisfied: optree in /home/dolaposalim/tensorflow-env/lib/python3.12/site-packages (from keras>=3.5.0->tensorflow) (0.15.0)\n",
      "Requirement already satisfied: charset-normalizer<4,>=2 in /home/dolaposalim/tensorflow-env/lib/python3.12/site-packages (from requests<3,>=2.21.0->tensorflow) (3.4.1)\n",
      "Requirement already satisfied: idna<4,>=2.5 in /home/dolaposalim/tensorflow-env/lib/python3.12/site-packages (from requests<3,>=2.21.0->tensorflow) (3.10)\n",
      "Requirement already satisfied: urllib3<3,>=1.21.1 in /home/dolaposalim/tensorflow-env/lib/python3.12/site-packages (from requests<3,>=2.21.0->tensorflow) (2.4.0)\n",
      "Requirement already satisfied: certifi>=2017.4.17 in /home/dolaposalim/tensorflow-env/lib/python3.12/site-packages (from requests<3,>=2.21.0->tensorflow) (2025.1.31)\n",
      "Requirement already satisfied: markdown>=2.6.8 in /home/dolaposalim/tensorflow-env/lib/python3.12/site-packages (from tensorboard~=2.19.0->tensorflow) (3.7)\n",
      "Requirement already satisfied: tensorboard-data-server<0.8.0,>=0.7.0 in /home/dolaposalim/tensorflow-env/lib/python3.12/site-packages (from tensorboard~=2.19.0->tensorflow) (0.7.2)\n",
      "Requirement already satisfied: werkzeug>=1.0.1 in /home/dolaposalim/tensorflow-env/lib/python3.12/site-packages (from tensorboard~=2.19.0->tensorflow) (3.1.3)\n",
      "Requirement already satisfied: MarkupSafe>=2.1.1 in /home/dolaposalim/tensorflow-env/lib/python3.12/site-packages (from werkzeug>=1.0.1->tensorboard~=2.19.0->tensorflow) (3.0.2)\n",
      "Requirement already satisfied: markdown-it-py>=2.2.0 in /home/dolaposalim/tensorflow-env/lib/python3.12/site-packages (from rich->keras>=3.5.0->tensorflow) (3.0.0)\n",
      "Requirement already satisfied: pygments<3.0.0,>=2.13.0 in /home/dolaposalim/tensorflow-env/lib/python3.12/site-packages (from rich->keras>=3.5.0->tensorflow) (2.19.1)\n",
      "Requirement already satisfied: mdurl~=0.1 in /home/dolaposalim/tensorflow-env/lib/python3.12/site-packages (from markdown-it-py>=2.2.0->rich->keras>=3.5.0->tensorflow) (0.1.2)\n",
      "Note: you may need to restart the kernel to use updated packages.\n"
     ]
    }
   ],
   "source": [
    "%pip install tensorflow opencv-python matplotlib"
   ]
  },
  {
   "cell_type": "code",
   "execution_count": 1,
   "id": "7212a7bd",
   "metadata": {},
   "outputs": [
    {
     "name": "stdout",
     "output_type": "stream",
     "text": [
      "Package                 Version\n",
      "----------------------- -----------\n",
      "absl-py                 2.2.2\n",
      "asttokens               3.0.0\n",
      "astunparse              1.6.3\n",
      "certifi                 2025.1.31\n",
      "charset-normalizer      3.4.1\n",
      "comm                    0.2.2\n",
      "contourpy               1.3.2\n",
      "cycler                  0.12.1\n",
      "debugpy                 1.8.14\n",
      "decorator               5.2.1\n",
      "executing               2.2.0\n",
      "flatbuffers             25.2.10\n",
      "fonttools               4.57.0\n",
      "gast                    0.6.0\n",
      "google-pasta            0.2.0\n",
      "grpcio                  1.71.0\n",
      "h5py                    3.13.0\n",
      "idna                    3.10\n",
      "ipykernel               6.29.5\n",
      "ipython                 9.1.0\n",
      "ipython_pygments_lexers 1.1.1\n",
      "jedi                    0.19.2\n",
      "jupyter_client          8.6.3\n",
      "jupyter_core            5.7.2\n",
      "keras                   3.9.2\n",
      "kiwisolver              1.4.8\n",
      "libclang                18.1.1\n",
      "Markdown                3.7\n",
      "markdown-it-py          3.0.0\n",
      "MarkupSafe              3.0.2\n",
      "matplotlib              3.10.1\n",
      "matplotlib-inline       0.1.7\n",
      "mdurl                   0.1.2\n",
      "ml_dtypes               0.5.1\n",
      "namex                   0.0.8\n",
      "nest-asyncio            1.6.0\n",
      "numpy                   2.1.3\n",
      "opencv-python           4.11.0.86\n",
      "opt_einsum              3.4.0\n",
      "optree                  0.15.0\n",
      "packaging               24.2\n",
      "parso                   0.8.4\n",
      "pexpect                 4.9.0\n",
      "pillow                  11.2.1\n",
      "pip                     25.0.1\n",
      "platformdirs            4.3.7\n",
      "prompt_toolkit          3.0.51\n",
      "protobuf                5.29.4\n",
      "psutil                  7.0.0\n",
      "ptyprocess              0.7.0\n",
      "pure_eval               0.2.3\n",
      "Pygments                2.19.1\n",
      "pyparsing               3.2.3\n",
      "python-dateutil         2.9.0.post0\n",
      "pyzmq                   26.4.0\n",
      "requests                2.32.3\n",
      "rich                    14.0.0\n",
      "setuptools              78.1.0\n",
      "six                     1.17.0\n",
      "stack-data              0.6.3\n",
      "tensorboard             2.19.0\n",
      "tensorboard-data-server 0.7.2\n",
      "tensorflow              2.19.0\n",
      "termcolor               3.0.1\n",
      "tornado                 6.4.2\n",
      "traitlets               5.14.3\n",
      "typing_extensions       4.13.2\n",
      "urllib3                 2.4.0\n",
      "wcwidth                 0.2.13\n",
      "Werkzeug                3.1.3\n",
      "wheel                   0.45.1\n",
      "wrapt                   1.17.2\n",
      "Note: you may need to restart the kernel to use updated packages.\n"
     ]
    }
   ],
   "source": [
    "%pip list"
   ]
  },
  {
   "cell_type": "code",
   "execution_count": 2,
   "id": "b6517b94",
   "metadata": {},
   "outputs": [],
   "source": [
    "# Import the required dependencies\n",
    "import tensorflow as tf\n",
    "import os\n",
    "import cv2\n",
    "import imghdr\n",
    "import numpy as np\n",
    "import matplotlib.pyplot as plt\n",
    "import random\n",
    "from matplotlib import pyplot as plt;"
   ]
  },
  {
   "cell_type": "markdown",
   "id": "7a05b5d8",
   "metadata": {},
   "source": [
    "#### Clean the files and folders"
   ]
  },
  {
   "cell_type": "code",
   "execution_count": 3,
   "id": "ce3cbf85",
   "metadata": {},
   "outputs": [
    {
     "name": "stdout",
     "output_type": "stream",
     "text": [
      "Current working directory is: /home/dolaposalim/tensorflow-env/fila/filadentification/scr\n"
     ]
    }
   ],
   "source": [
    "#check and print the current Working Directory\n",
    "wrk_dir = os.getcwd()\n",
    "print(f\"Current working directory is: {wrk_dir}\")"
   ]
  },
  {
   "cell_type": "code",
   "execution_count": 4,
   "id": "ac3a1190",
   "metadata": {},
   "outputs": [],
   "source": [
    "cap_dir = r\"/home/dolaposalim/tensorflow-env/fila/filadentification/data/cap\""
   ]
  },
  {
   "cell_type": "code",
   "execution_count": 5,
   "id": "517df19b",
   "metadata": {},
   "outputs": [
    {
     "name": "stdout",
     "output_type": "stream",
     "text": [
      "image: img_82.jpeg is in the right format\n",
      "image: img_37.jpg is in the right format\n",
      "image: img_19.jpg is in the right format\n",
      "image: img_72.jpeg is in the right format\n",
      "image: img_229.jpeg is in the right format\n",
      "image: img_233.jpeg is in the right format\n",
      "image: img_101.jpeg is in the right format\n",
      "image: img_227.jpeg is in the right format\n",
      "image: img_128.jpeg is in the right format\n",
      "image: img_113.jpeg is in the right format\n",
      "image: img_89.jpeg is in the right format\n",
      "image: img_221.jpeg is in the right format\n",
      "image: img_271.jpeg is in the right format\n",
      "image: img_178.jpeg is in the right format\n",
      "image: img_136.jpeg is in the right format\n",
      "image: img_31.jpg is in the right format\n",
      "image: img_240.jpeg is in the right format\n",
      "image: img_241.jpeg is in the right format\n",
      "image: img_107.jpeg is in the right format\n",
      "image: img_142.jpeg is in the right format\n",
      "image: img_76.jpeg is in the right format\n",
      "image: img_239.jpeg is in the right format\n",
      "image: img_248.jpeg is in the right format\n",
      "image: img_200.jpeg is in the right format\n",
      "image: img_3.jpg is in the right format\n",
      "image: img_208.jpeg is in the right format\n",
      "image: img_190.jpeg is in the right format\n",
      "image: img_116.jpeg is in the right format\n",
      "image: img_281.jpg is in the right format\n",
      "image: img_47.jpg is in the right format\n",
      "image: img_161.jpeg is in the right format\n",
      "image: img_91.jpeg is in the right format\n",
      "image: img_130.jpeg is in the right format\n",
      "image: img_166.jpeg is in the right format\n",
      "image: img_223.jpeg is in the right format\n",
      "image: img_143.jpeg is in the right format\n",
      "image: img_189.jpeg is in the right format\n",
      "image: img_29.jpg is in the right format\n",
      "image: img_209.jpeg is in the right format\n",
      "image: img_191.jpeg is in the right format\n",
      "image: img_207.jpeg is in the right format\n",
      "image: img_205.jpeg is in the right format\n",
      "image: img_214.jpeg is in the right format\n",
      "image: img_11.jpg is in the right format\n",
      "image: img_5.jpg is in the right format\n",
      "image: img_93.jpeg is in the right format\n",
      "image: img_234.jpeg is in the right format\n",
      "image: img_127.jpeg is in the right format\n",
      "image: img_102.jpeg is in the right format\n",
      "image: img_217.jpeg is in the right format\n",
      "image: img_2.jpg is in the right format\n",
      "image: img_165.jpeg is in the right format\n",
      "image: img_277.jpeg is in the right format\n",
      "image: img_174.jpeg is in the right format\n",
      "image: img_129.jpeg is in the right format\n",
      "image: img_145.jpeg is in the right format\n",
      "image: img_0.jpg is in the right format\n",
      "image: img_252.jpeg is in the right format\n",
      "image: img_85.jpeg is in the right format\n",
      "image: img_176.jpeg is in the right format\n",
      "image: img_171.jpeg is in the right format\n",
      "image: img_8.jpg is in the right format\n",
      "image: img_81.jpeg is in the right format\n",
      "image: img_193.jpeg is in the right format\n",
      "image: img_48.jpg is in the right format\n",
      "image: img_262.jpeg is in the right format\n",
      "image: img_216.jpeg is in the right format\n",
      "image: img_125.jpeg is in the right format\n",
      "image: img_267.jpeg is in the right format\n",
      "image: img_86.jpeg is in the right format\n",
      "image: img_78.jpeg is in the right format\n",
      "image: img_14.jpg is in the right format\n",
      "image: img_141.jpeg is in the right format\n",
      "image: img_232.jpeg is in the right format\n",
      "image: img_137.jpeg is in the right format\n",
      "image: img_6.jpg is in the right format\n",
      "image: img_131.jpeg is in the right format\n",
      "image: img_253.jpeg is in the right format\n",
      "image: img_84.jpeg is in the right format\n",
      "image: img_167.jpeg is in the right format\n",
      "image: img_90.jpeg is in the right format\n",
      "image: img_7.jpg is in the right format\n",
      "image: img_100.jpeg is in the right format\n",
      "image: img_77.jpeg is in the right format\n",
      "image: img_79.jpeg is in the right format\n",
      "image: img_62.jpeg is in the right format\n",
      "image: img_96.jpeg is in the right format\n",
      "image: img_206.jpeg is in the right format\n",
      "image: img_111.jpeg is in the right format\n",
      "image: img_283.jpg is in the right format\n",
      "image: img_149.jpeg is in the right format\n",
      "image: img_160.jpeg is in the right format\n",
      "image: img_1.jpg is in the right format\n",
      "image: img_25.jpg is in the right format\n",
      "image: img_10.jpg is in the right format\n",
      "image: img_28.jpg is in the right format\n",
      "image: img_135.jpeg is in the right format\n",
      "image: img_66.jpeg is in the right format\n",
      "image: img_251.jpeg is in the right format\n",
      "image: img_27.jpg is in the right format\n",
      "image: img_244.jpeg is in the right format\n",
      "image: img_50.jpg is in the right format\n",
      "image: img_245.jpeg is in the right format\n",
      "image: img_212.jpeg is in the right format\n",
      "image: img_138.jpeg is in the right format\n",
      "image: img_43.jpg is in the right format\n",
      "image: img_246.jpeg is in the right format\n",
      "image: img_210.jpeg is in the right format\n",
      "image: img_103.jpeg is in the right format\n",
      "image: img_61.jpeg is in the right format\n",
      "image: img_46.jpg is in the right format\n",
      "image: img_70.jpeg is in the right format\n",
      "image: img_235.jpeg is in the right format\n",
      "image: img_21.jpg is in the right format\n",
      "image: img_54.jpeg is in the right format\n",
      "image: img_92.jpeg is in the right format\n",
      "image: img_219.jpeg is in the right format\n",
      "image: img_117.jpeg is in the right format\n",
      "image: img_59.jpeg is in the right format\n",
      "image: img_228.jpeg is in the right format\n",
      "image: img_257.jpeg is in the right format\n",
      "image: img_22.jpg is in the right format\n",
      "image: img_15.jpg is in the right format\n",
      "image: img_73.jpeg is in the right format\n",
      "image: img_181.jpeg is in the right format\n",
      "image: img_119.jpeg is in the right format\n",
      "image: img_236.jpeg is in the right format\n",
      "image: img_55.jpeg is in the right format\n",
      "image: img_265.jpeg is in the right format\n",
      "image: img_108.jpeg is in the right format\n",
      "image: img_256.jpeg is in the right format\n",
      "image: img_242.jpeg is in the right format\n",
      "image: img_255.jpeg is in the right format\n",
      "image: img_99.jpeg is in the right format\n",
      "image: img_67.jpeg is in the right format\n",
      "image: img_187.jpeg is in the right format\n",
      "image: img_203.jpeg is in the right format\n",
      "image: img_173.jpeg is in the right format\n",
      "image: img_183.jpeg is in the right format\n",
      "image: img_188.jpeg is in the right format\n",
      "image: img_264.jpeg is in the right format\n",
      "image: img_155.jpeg is in the right format\n",
      "image: img_44.jpg is in the right format\n",
      "image: img_162.jpeg is in the right format\n",
      "image: img_249.jpeg is in the right format\n",
      "image: img_185.jpeg is in the right format\n",
      "image: img_247.jpeg is in the right format\n",
      "image: img_243.jpeg is in the right format\n",
      "image: img_150.jpeg is in the right format\n",
      "image: img_266.jpeg is in the right format\n",
      "image: img_284.jpg is in the right format\n",
      "image: img_279.jpg is in the right format\n",
      "image: img_132.jpeg is in the right format\n",
      "image: img_38.jpg is in the right format\n",
      "image: img_224.jpeg is in the right format\n",
      "image: img_120.jpeg is in the right format\n",
      "image: img_199.jpeg is in the right format\n",
      "image: img_4.jpg is in the right format\n",
      "image: img_20.jpg is in the right format\n",
      "image: img_18.jpg is in the right format\n",
      "image: img_87.jpeg is in the right format\n",
      "image: img_97.jpeg is in the right format\n",
      "image: img_169.jpeg is in the right format\n",
      "image: img_134.jpeg is in the right format\n",
      "image: img_163.jpeg is in the right format\n",
      "image: img_259.jpeg is in the right format\n",
      "image: img_153.jpeg is in the right format\n",
      "image: img_159.jpeg is in the right format\n",
      "image: img_196.jpeg is in the right format\n",
      "image: img_121.jpeg is in the right format\n",
      "image: img_35.jpg is in the right format\n",
      "image: img_56.jpeg is in the right format\n",
      "image: img_148.jpeg is in the right format\n",
      "image: img_109.jpeg is in the right format\n",
      "image: img_156.jpeg is in the right format\n",
      "image: img_225.jpeg is in the right format\n",
      "image: img_45.jpg is in the right format\n",
      "image: img_179.jpeg is in the right format\n",
      "image: img_273.jpeg is in the right format\n",
      "image: img_69.jpeg is in the right format\n",
      "image: img_213.jpeg is in the right format\n",
      "image: img_157.jpeg is in the right format\n",
      "image: img_263.jpeg is in the right format\n",
      "image: img_24.jpg is in the right format\n",
      "image: img_104.jpeg is in the right format\n",
      "image: img_68.jpeg is in the right format\n",
      "image: img_276.jpeg is in the right format\n",
      "image: img_250.jpeg is in the right format\n",
      "image: img_58.jpeg is in the right format\n",
      "image: img_39.jpg is in the right format\n",
      "image: img_168.jpeg is in the right format\n",
      "image: img_192.jpeg is in the right format\n",
      "image: img_53.jpeg is in the right format\n",
      "image: img_94.jpeg is in the right format\n",
      "image: img_23.jpg is in the right format\n",
      "image: img_184.jpeg is in the right format\n",
      "image: img_98.jpeg is in the right format\n",
      "image: img_158.jpeg is in the right format\n",
      "image: img_33.jpg is in the right format\n",
      "image: img_172.jpeg is in the right format\n",
      "image: img_41.jpg is in the right format\n",
      "image: img_63.jpeg is in the right format\n",
      "image: img_258.jpeg is in the right format\n",
      "image: img_197.jpeg is in the right format\n",
      "image: img_278.jpeg is in the right format\n",
      "image: img_186.jpeg is in the right format\n",
      "image: img_40.jpg is in the right format\n",
      "image: img_83.jpeg is in the right format\n",
      "image: img_123.jpeg is in the right format\n",
      "image: img_211.jpeg is in the right format\n",
      "image: img_126.jpeg is in the right format\n",
      "image: img_275.jpeg is in the right format\n",
      "image: img_60.jpeg is in the right format\n",
      "image: img_231.jpeg is in the right format\n",
      "image: img_202.jpeg is in the right format\n",
      "image: img_204.jpeg is in the right format\n",
      "image: img_36.jpg is in the right format\n",
      "image: img_180.jpeg is in the right format\n",
      "image: img_12.jpeg is in the right format\n",
      "image: img_139.jpeg is in the right format\n",
      "image: img_112.jpeg is in the right format\n",
      "image: img_74.jpeg is in the right format\n",
      "image: img_195.jpeg is in the right format\n",
      "image: img_133.jpeg is in the right format\n",
      "image: img_175.jpeg is in the right format\n",
      "image: img_95.jpeg is in the right format\n",
      "image: img_226.jpeg is in the right format\n",
      "image: img_106.jpeg is in the right format\n",
      "image: img_280.jpg is in the right format\n",
      "image: img_218.jpeg is in the right format\n",
      "image: img_222.jpeg is in the right format\n",
      "image: img_118.jpeg is in the right format\n",
      "image: img_194.jpeg is in the right format\n",
      "image: img_105.jpeg is in the right format\n",
      "image: img_114.jpeg is in the right format\n",
      "image: img_13.jpg is in the right format\n",
      "image: img_146.jpeg is in the right format\n",
      "image: img_182.jpeg is in the right format\n",
      "image: img_269.jpeg is in the right format\n",
      "image: img_198.jpeg is in the right format\n",
      "image: img_285.jpg is in the right format\n",
      "image: img_140.jpeg is in the right format\n",
      "image: img_220.jpeg is in the right format\n",
      "image: img_177.jpeg is in the right format\n",
      "image: img_152.jpeg is in the right format\n",
      "image: img_268.jpeg is in the right format\n",
      "image: img_88.jpeg is in the right format\n",
      "image: img_260.jpeg is in the right format\n",
      "image: img_272.jpeg is in the right format\n",
      "image: img_75.jpeg is in the right format\n",
      "image: img_17.jpg is in the right format\n",
      "image: img_52.jpeg is in the right format\n",
      "image: img_64.jpeg is in the right format\n",
      "image: img_164.jpeg is in the right format\n",
      "image: img_151.jpeg is in the right format\n",
      "image: img_147.jpeg is in the right format\n",
      "image: img_144.jpeg is in the right format\n",
      "image: img_170.jpeg is in the right format\n",
      "image: img_238.jpeg is in the right format\n",
      "image: img_282.jpg is in the right format\n",
      "image: img_16.jpg is in the right format\n",
      "image: img_71.jpeg is in the right format\n",
      "image: img_254.jpeg is in the right format\n",
      "image: img_115.jpeg is in the right format\n",
      "image: img_154.jpeg is in the right format\n",
      "image: img_274.jpeg is in the right format\n",
      "image: img_110.jpeg is in the right format\n",
      "image: img_122.jpeg is in the right format\n",
      "image: img_26.jpg is in the right format\n",
      "image: img_124.jpeg is in the right format\n",
      "image: img_215.jpeg is in the right format\n",
      "image: img_30.jpg is in the right format\n",
      "image: img_57.jpeg is in the right format\n",
      "image: img_34.jpg is in the right format\n",
      "image: img_51.jpeg is in the right format\n",
      "image: img_237.jpeg is in the right format\n",
      "image: img_32.jpg is in the right format\n",
      "image: img_261.jpeg is in the right format\n",
      "image: img_42.jpg is in the right format\n",
      "image: img_201.jpeg is in the right format\n",
      "image: img_9.jpg is in the right format\n",
      "image: img_65.jpeg is in the right format\n",
      "image: img_49.jpg is in the right format\n",
      "image: img_230.jpeg is in the right format\n",
      "image: img_80.jpeg is in the right format\n",
      "image: img_270.jpeg is in the right format\n",
      "cleaning completed with 286 images left in directory\n"
     ]
    }
   ],
   "source": [
    "# to delete unwanted files in the directory\n",
    "\n",
    "for image in os.listdir(cap_dir):\n",
    "    if image.lower().endswith(\".jpg\"):\n",
    "        print(f\"image: {image} is in the right format\")\n",
    "    elif image.lower().endswith(\".jpeg\"):\n",
    "        print(f\"image: {image} is in the right format\")\n",
    "    elif image.lower().endswith(\".png\"):\n",
    "        print(f\"image: {image} is in the right format\")\n",
    "    else:\n",
    "        os.remove(os.path.join(cap_dir, image))\n",
    "        print(f\"deleted non jpg image: {image}\")\n",
    "        \n",
    "print(f\"cleaning completed with {len(os.listdir(cap_dir))} images left in directory\")"
   ]
  },
  {
   "cell_type": "code",
   "execution_count": 6,
   "id": "2bc8a886",
   "metadata": {},
   "outputs": [
    {
     "name": "stdout",
     "output_type": "stream",
     "text": [
      "img_folder: /home/dolaposalim/tensorflow-env/fila/filadentification/data/cap\n"
     ]
    }
   ],
   "source": [
    "img_folder = cap_dir\n",
    "print(f\"img_folder: {img_folder}\")"
   ]
  },
  {
   "cell_type": "code",
   "execution_count": 7,
   "id": "e7b73f7e",
   "metadata": {},
   "outputs": [
    {
     "name": "stdout",
     "output_type": "stream",
     "text": [
      "All images with size less than 10KB have been deleted.\n"
     ]
    }
   ],
   "source": [
    "#remove images with size less than 10KB\n",
    "for image in os.listdir(img_folder):\n",
    "    path = f\"{img_folder}/{image}\"\n",
    "    if os.path.isfile(path) and os.path.getsize(path) <= 5 * 1024:\n",
    "        os.remove(path)\n",
    "\n",
    "print(\"All images with size less than 10KB have been deleted.\")\n",
    "   "
   ]
  },
  {
   "cell_type": "code",
   "execution_count": 8,
   "id": "3448c5b9",
   "metadata": {},
   "outputs": [
    {
     "name": "stdout",
     "output_type": "stream",
     "text": [
      " Renaming complete!\n"
     ]
    }
   ],
   "source": [
    "# Get a sorted list\n",
    "image_files = [f for f in os.listdir(img_folder) if f.lower().endswith(('.jpg', '.jpeg', '.png'))]\n",
    "image_files.sort()\n",
    "\n",
    "\n",
    "for index, filename in enumerate(image_files):\n",
    "    ext = os.path.splitext(filename)[1]\n",
    "    new_name = f\"img_{index}{ext}\"\n",
    "    \n",
    "    # Full old and new paths\n",
    "    old_path = os.path.join(img_folder, filename)\n",
    "    new_path = os.path.join(img_folder, new_name)\n",
    "    \n",
    "    # Rename\n",
    "    os.rename(old_path, new_path)\n",
    "\n",
    "print(\" Renaming complete!\")"
   ]
  },
  {
   "cell_type": "code",
   "execution_count": 10,
   "id": "3cebad9c",
   "metadata": {},
   "outputs": [
    {
     "data": {
      "image/png": "[encoded data removed]",
      "text/plain": [
       "<Figure size 640x480 with 1 Axes>"
      ]
     },
     "metadata": {},
     "output_type": "display_data"
    }
   ],
   "source": [
    "all_images = [f for f in os.listdir(img_folder)\n",
    "              if os.path.isfile(os.path.join(img_folder, f))]\n",
    "#BGR - RGB\n",
    "random_image = random.choice(all_images)\n",
    "img = cv2.imread(os.path.join(img_folder, random_image))\n",
    "img_rgb = cv2.cvtColor(img, cv2.COLOR_BGR2RGB)\n",
    "plt.imshow(img_rgb);"
   ]
  },
  {
   "cell_type": "code",
   "execution_count": 11,
   "id": "ee6a0939",
   "metadata": {},
   "outputs": [
    {
     "data": {
      "text/plain": [
       "(259, 194, 3)"
      ]
     },
     "execution_count": 11,
     "metadata": {},
     "output_type": "execute_result"
    }
   ],
   "source": [
    "img_rgb.shape"
   ]
  },
  {
   "cell_type": "markdown",
   "id": "99dcebde",
   "metadata": {},
   "source": [
    "### Create Dummy Binary Class Dataset\n"
   ]
  },
  {
   "cell_type": "code",
   "execution_count": null,
   "id": "80ca4c1d",
   "metadata": {},
   "outputs": [
    {
     "name": "stdout",
     "output_type": "stream",
     "text": [
      "Requirement already satisfied: tensorflow-datasets in /home/dolaposalim/tensorflow-env/lib/python3.12/site-packages (4.9.8)\n",
      "Requirement already satisfied: absl-py in /home/dolaposalim/tensorflow-env/lib/python3.12/site-packages (from tensorflow-datasets) (2.2.2)\n",
      "Requirement already satisfied: array_record>=0.5.0 in /home/dolaposalim/tensorflow-env/lib/python3.12/site-packages (from tensorflow-datasets) (0.7.1)\n",
      "Requirement already satisfied: dm-tree in /home/dolaposalim/tensorflow-env/lib/python3.12/site-packages (from tensorflow-datasets) (0.1.9)\n",
      "Requirement already satisfied: etils>=1.9.1 in /home/dolaposalim/tensorflow-env/lib/python3.12/site-packages (from etils[edc,enp,epath,epy,etree]>=1.9.1; python_version >= \"3.11\"->tensorflow-datasets) (1.12.2)\n",
      "Requirement already satisfied: immutabledict in /home/dolaposalim/tensorflow-env/lib/python3.12/site-packages (from tensorflow-datasets) (4.2.1)\n",
      "Requirement already satisfied: numpy in /home/dolaposalim/tensorflow-env/lib/python3.12/site-packages (from tensorflow-datasets) (2.1.3)\n",
      "Requirement already satisfied: promise in /home/dolaposalim/tensorflow-env/lib/python3.12/site-packages (from tensorflow-datasets) (2.3)\n",
      "Requirement already satisfied: protobuf>=3.20 in /home/dolaposalim/tensorflow-env/lib/python3.12/site-packages (from tensorflow-datasets) (5.29.4)\n",
      "Requirement already satisfied: psutil in /home/dolaposalim/tensorflow-env/lib/python3.12/site-packages (from tensorflow-datasets) (7.0.0)\n",
      "Requirement already satisfied: pyarrow in /home/dolaposalim/tensorflow-env/lib/python3.12/site-packages (from tensorflow-datasets) (19.0.1)\n",
      "Requirement already satisfied: requests>=2.19.0 in /home/dolaposalim/tensorflow-env/lib/python3.12/site-packages (from tensorflow-datasets) (2.32.3)\n",
      "Requirement already satisfied: simple_parsing in /home/dolaposalim/tensorflow-env/lib/python3.12/site-packages (from tensorflow-datasets) (0.1.7)\n",
      "Requirement already satisfied: tensorflow-metadata in /home/dolaposalim/tensorflow-env/lib/python3.12/site-packages (from tensorflow-datasets) (1.17.1)\n",
      "Requirement already satisfied: termcolor in /home/dolaposalim/tensorflow-env/lib/python3.12/site-packages (from tensorflow-datasets) (3.0.1)\n",
      "Requirement already satisfied: toml in /home/dolaposalim/tensorflow-env/lib/python3.12/site-packages (from tensorflow-datasets) (0.10.2)\n",
      "Requirement already satisfied: tqdm in /home/dolaposalim/tensorflow-env/lib/python3.12/site-packages (from tensorflow-datasets) (4.67.1)\n",
      "Requirement already satisfied: wrapt in /home/dolaposalim/tensorflow-env/lib/python3.12/site-packages (from tensorflow-datasets) (1.17.2)\n",
      "Requirement already satisfied: einops in /home/dolaposalim/tensorflow-env/lib/python3.12/site-packages (from etils[edc,enp,epath,epy,etree]>=1.9.1; python_version >= \"3.11\"->tensorflow-datasets) (0.8.1)\n",
      "Requirement already satisfied: fsspec in /home/dolaposalim/tensorflow-env/lib/python3.12/site-packages (from etils[edc,enp,epath,epy,etree]>=1.9.1; python_version >= \"3.11\"->tensorflow-datasets) (2025.3.2)\n",
      "Requirement already satisfied: importlib_resources in /home/dolaposalim/tensorflow-env/lib/python3.12/site-packages (from etils[edc,enp,epath,epy,etree]>=1.9.1; python_version >= \"3.11\"->tensorflow-datasets) (6.5.2)\n",
      "Requirement already satisfied: typing_extensions in /home/dolaposalim/tensorflow-env/lib/python3.12/site-packages (from etils[edc,enp,epath,epy,etree]>=1.9.1; python_version >= \"3.11\"->tensorflow-datasets) (4.13.2)\n",
      "Requirement already satisfied: zipp in /home/dolaposalim/tensorflow-env/lib/python3.12/site-packages (from etils[edc,enp,epath,epy,etree]>=1.9.1; python_version >= \"3.11\"->tensorflow-datasets) (3.21.0)\n",
      "Requirement already satisfied: charset-normalizer<4,>=2 in /home/dolaposalim/tensorflow-env/lib/python3.12/site-packages (from requests>=2.19.0->tensorflow-datasets) (3.4.1)\n",
      "Requirement already satisfied: idna<4,>=2.5 in /home/dolaposalim/tensorflow-env/lib/python3.12/site-packages (from requests>=2.19.0->tensorflow-datasets) (3.10)\n",
      "Requirement already satisfied: urllib3<3,>=1.21.1 in /home/dolaposalim/tensorflow-env/lib/python3.12/site-packages (from requests>=2.19.0->tensorflow-datasets) (2.4.0)\n",
      "Requirement already satisfied: certifi>=2017.4.17 in /home/dolaposalim/tensorflow-env/lib/python3.12/site-packages (from requests>=2.19.0->tensorflow-datasets) (2025.1.31)\n",
      "Requirement already satisfied: attrs>=18.2.0 in /home/dolaposalim/tensorflow-env/lib/python3.12/site-packages (from dm-tree->tensorflow-datasets) (25.3.0)\n",
      "Requirement already satisfied: six in /home/dolaposalim/tensorflow-env/lib/python3.12/site-packages (from promise->tensorflow-datasets) (1.17.0)\n",
      "Requirement already satisfied: docstring-parser<1.0,>=0.15 in /home/dolaposalim/tensorflow-env/lib/python3.12/site-packages (from simple_parsing->tensorflow-datasets) (0.16)\n",
      "Requirement already satisfied: googleapis-common-protos<2,>=1.56.4 in /home/dolaposalim/tensorflow-env/lib/python3.12/site-packages (from tensorflow-metadata->tensorflow-datasets) (1.70.0)\n"
     ]
    }
   ],
   "source": [
    "!pip install tensorflow-datasets\n"
   ]
  },
  {
   "cell_type": "markdown",
   "id": "6fc439ec",
   "metadata": {},
   "source": [
    "- CIFAR-10: A dataset with 10 classes, including objects like airplanes, cars, and animals.\n",
    "- ImageNet: A large dataset of diverse categories (though this is larger and might require more computational resources).\n",
    "- Oxford Pets: A dataset containing images of pets, which could be relevant as images of animals without caps.\n",
    "- For the \"no cap\" class, a dataset like CIFAR-10 or Oxford Pets would be suitable because they contain real-world images that do not feature caps."
   ]
  },
  {
   "cell_type": "code",
   "execution_count": 18,
   "id": "e9e65949",
   "metadata": {},
   "outputs": [],
   "source": [
    "import tensorflow_datasets as tfds"
   ]
  },
  {
   "cell_type": "code",
   "execution_count": 19,
   "id": "6555bed7",
   "metadata": {},
   "outputs": [],
   "source": [
    "no_cap_dir = \"/home/dolaposalim/tensorflow-env/fila/filadentification/data/no-cap\"\n",
    "os.makedirs(no_cap_dir, exist_ok=True)"
   ]
  },
  {
   "cell_type": "code",
   "execution_count": 47,
   "id": "d3c749bb",
   "metadata": {},
   "outputs": [
    {
     "name": "stdout",
     "output_type": "stream",
     "text": [
      "250 images saved\n"
     ]
    },
    {
     "name": "stderr",
     "output_type": "stream",
     "text": [
      "2025-04-21 18:51:00.367397: W tensorflow/core/kernels/data/cache_dataset_ops.cc:916] The calling iterator did not fully read the dataset being cached. In order to avoid unexpected truncation of the dataset, the partially cached contents of the dataset  will be discarded. This can happen if you have an input pipeline similar to `dataset.cache().take(k).repeat()`. You should use `dataset.take(k).cache().repeat()` instead.\n"
     ]
    }
   ],
   "source": [
    "# Save the first 250 images\n",
    "for index, (image, label) in enumerate(dataset.take(250)):\n",
    "    img_array = image.numpy()\n",
    "    img_bgr = cv2.cvtColor(img_array, cv2.COLOR_RGB2BGR)\n",
    "    img_bgr = cv2.resize(img_bgr, (32, 32))  # \n",
    "    save_path = os.path.join(no_cap_dir, f\"img_no_cap{index}.jpg\")\n",
    "    cv2.imwrite(save_path, img_bgr)\n",
    "\n",
    "print(f\"{len(os.listdir(no_cap_dir))} images saved\");"
   ]
  },
  {
   "cell_type": "markdown",
   "id": "c2802794",
   "metadata": {},
   "source": [
    "#### Load our data"
   ]
  },
  {
   "cell_type": "code",
   "execution_count": null,
   "id": "3ffd3490",
   "metadata": {},
   "outputs": [],
   "source": []
  },
  {
   "cell_type": "markdown",
   "id": "a67acfce",
   "metadata": {},
   "source": [
    "``` tf.keras.utils.image_dataset_from_directory```\n",
    "###### Load images from folders\timage_dataset_from_directory(): Auto-labels, resizes, batches, and shuffles your image data from disk\n",
    "- Automatically reads images from a directory with subfolders as class labels\n",
    "- Converts them into a TensorFlow dataset\n",
    "- Automatically resizes, batches, and labels them\n",
    "- Works well with model.fit(), ready to train a model\n"
   ]
  },
  {
   "cell_type": "code",
   "execution_count": null,
   "id": "3b726beb",
   "metadata": {},
   "outputs": [],
   "source": [
    "tf.keras.utils.image_dataset_from_directory"
   ]
  }
 ],
 "metadata": {
  "kernelspec": {
   "display_name": "tensorflow-env",
   "language": "python",
   "name": "python3"
  },
  "language_info": {
   "codemirror_mode": {
    "name": "ipython",
    "version": 3
   },
   "file_extension": ".py",
   "mimetype": "text/x-python",
   "name": "python",
   "nbconvert_exporter": "python",
   "pygments_lexer": "ipython3",
   "version": "3.12.3"
  }
 },
 "nbformat": 4,
 "nbformat_minor": 5
}
