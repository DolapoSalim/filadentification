{
 "cells": [
  {
   "cell_type": "markdown",
   "id": "fc83c562",
   "metadata": {},
   "source": [
    "## 1. Setup and Load Data\n",
    "### Install Dependencies and Setup"
   ]
  },
  {
   "cell_type": "code",
   "execution_count": 1,
   "id": "5593525b",
   "metadata": {},
   "outputs": [
    {
     "name": "stdout",
     "output_type": "stream",
     "text": [
      "Requirement already satisfied: tensorflow in /home/dolaposalim/tensorflow-env/lib/python3.12/site-packages (2.19.0)\n",
      "Requirement already satisfied: opencv-python in /home/dolaposalim/tensorflow-env/lib/python3.12/site-packages (4.11.0.86)\n",
      "Requirement already satisfied: matplotlib in /home/dolaposalim/tensorflow-env/lib/python3.12/site-packages (3.10.1)\n",
      "Requirement already satisfied: absl-py>=1.0.0 in /home/dolaposalim/tensorflow-env/lib/python3.12/site-packages (from tensorflow) (2.2.2)\n",
      "Requirement already satisfied: astunparse>=1.6.0 in /home/dolaposalim/tensorflow-env/lib/python3.12/site-packages (from tensorflow) (1.6.3)\n",
      "Requirement already satisfied: flatbuffers>=24.3.25 in /home/dolaposalim/tensorflow-env/lib/python3.12/site-packages (from tensorflow) (25.2.10)\n",
      "Requirement already satisfied: gast!=0.5.0,!=0.5.1,!=0.5.2,>=0.2.1 in /home/dolaposalim/tensorflow-env/lib/python3.12/site-packages (from tensorflow) (0.6.0)\n",
      "Requirement already satisfied: google-pasta>=0.1.1 in /home/dolaposalim/tensorflow-env/lib/python3.12/site-packages (from tensorflow) (0.2.0)\n",
      "Requirement already satisfied: libclang>=13.0.0 in /home/dolaposalim/tensorflow-env/lib/python3.12/site-packages (from tensorflow) (18.1.1)\n",
      "Requirement already satisfied: opt-einsum>=2.3.2 in /home/dolaposalim/tensorflow-env/lib/python3.12/site-packages (from tensorflow) (3.4.0)\n",
      "Requirement already satisfied: packaging in /home/dolaposalim/tensorflow-env/lib/python3.12/site-packages (from tensorflow) (24.2)\n",
      "Requirement already satisfied: protobuf!=4.21.0,!=4.21.1,!=4.21.2,!=4.21.3,!=4.21.4,!=4.21.5,<6.0.0dev,>=3.20.3 in /home/dolaposalim/tensorflow-env/lib/python3.12/site-packages (from tensorflow) (5.29.4)\n",
      "Requirement already satisfied: requests<3,>=2.21.0 in /home/dolaposalim/tensorflow-env/lib/python3.12/site-packages (from tensorflow) (2.32.3)\n",
      "Requirement already satisfied: setuptools in /home/dolaposalim/tensorflow-env/lib/python3.12/site-packages (from tensorflow) (78.1.0)\n",
      "Requirement already satisfied: six>=1.12.0 in /home/dolaposalim/tensorflow-env/lib/python3.12/site-packages (from tensorflow) (1.17.0)\n",
      "Requirement already satisfied: termcolor>=1.1.0 in /home/dolaposalim/tensorflow-env/lib/python3.12/site-packages (from tensorflow) (3.0.1)\n",
      "Requirement already satisfied: typing-extensions>=3.6.6 in /home/dolaposalim/tensorflow-env/lib/python3.12/site-packages (from tensorflow) (4.13.2)\n",
      "Requirement already satisfied: wrapt>=1.11.0 in /home/dolaposalim/tensorflow-env/lib/python3.12/site-packages (from tensorflow) (1.17.2)\n",
      "Requirement already satisfied: grpcio<2.0,>=1.24.3 in /home/dolaposalim/tensorflow-env/lib/python3.12/site-packages (from tensorflow) (1.71.0)\n",
      "Requirement already satisfied: tensorboard~=2.19.0 in /home/dolaposalim/tensorflow-env/lib/python3.12/site-packages (from tensorflow) (2.19.0)\n",
      "Requirement already satisfied: keras>=3.5.0 in /home/dolaposalim/tensorflow-env/lib/python3.12/site-packages (from tensorflow) (3.9.2)\n",
      "Requirement already satisfied: numpy<2.2.0,>=1.26.0 in /home/dolaposalim/tensorflow-env/lib/python3.12/site-packages (from tensorflow) (2.1.3)\n",
      "Requirement already satisfied: h5py>=3.11.0 in /home/dolaposalim/tensorflow-env/lib/python3.12/site-packages (from tensorflow) (3.13.0)\n",
      "Requirement already satisfied: ml-dtypes<1.0.0,>=0.5.1 in /home/dolaposalim/tensorflow-env/lib/python3.12/site-packages (from tensorflow) (0.5.1)\n",
      "Requirement already satisfied: contourpy>=1.0.1 in /home/dolaposalim/tensorflow-env/lib/python3.12/site-packages (from matplotlib) (1.3.2)\n",
      "Requirement already satisfied: cycler>=0.10 in /home/dolaposalim/tensorflow-env/lib/python3.12/site-packages (from matplotlib) (0.12.1)\n",
      "Requirement already satisfied: fonttools>=4.22.0 in /home/dolaposalim/tensorflow-env/lib/python3.12/site-packages (from matplotlib) (4.57.0)\n",
      "Requirement already satisfied: kiwisolver>=1.3.1 in /home/dolaposalim/tensorflow-env/lib/python3.12/site-packages (from matplotlib) (1.4.8)\n",
      "Requirement already satisfied: pillow>=8 in /home/dolaposalim/tensorflow-env/lib/python3.12/site-packages (from matplotlib) (11.2.1)\n",
      "Requirement already satisfied: pyparsing>=2.3.1 in /home/dolaposalim/tensorflow-env/lib/python3.12/site-packages (from matplotlib) (3.2.3)\n",
      "Requirement already satisfied: python-dateutil>=2.7 in /home/dolaposalim/tensorflow-env/lib/python3.12/site-packages (from matplotlib) (2.9.0.post0)\n",
      "Requirement already satisfied: wheel<1.0,>=0.23.0 in /home/dolaposalim/tensorflow-env/lib/python3.12/site-packages (from astunparse>=1.6.0->tensorflow) (0.45.1)\n",
      "Requirement already satisfied: rich in /home/dolaposalim/tensorflow-env/lib/python3.12/site-packages (from keras>=3.5.0->tensorflow) (14.0.0)\n",
      "Requirement already satisfied: namex in /home/dolaposalim/tensorflow-env/lib/python3.12/site-packages (from keras>=3.5.0->tensorflow) (0.0.8)\n",
      "Requirement already satisfied: optree in /home/dolaposalim/tensorflow-env/lib/python3.12/site-packages (from keras>=3.5.0->tensorflow) (0.15.0)\n",
      "Requirement already satisfied: charset-normalizer<4,>=2 in /home/dolaposalim/tensorflow-env/lib/python3.12/site-packages (from requests<3,>=2.21.0->tensorflow) (3.4.1)\n",
      "Requirement already satisfied: idna<4,>=2.5 in /home/dolaposalim/tensorflow-env/lib/python3.12/site-packages (from requests<3,>=2.21.0->tensorflow) (3.10)\n",
      "Requirement already satisfied: urllib3<3,>=1.21.1 in /home/dolaposalim/tensorflow-env/lib/python3.12/site-packages (from requests<3,>=2.21.0->tensorflow) (2.4.0)\n",
      "Requirement already satisfied: certifi>=2017.4.17 in /home/dolaposalim/tensorflow-env/lib/python3.12/site-packages (from requests<3,>=2.21.0->tensorflow) (2025.1.31)\n",
      "Requirement already satisfied: markdown>=2.6.8 in /home/dolaposalim/tensorflow-env/lib/python3.12/site-packages (from tensorboard~=2.19.0->tensorflow) (3.7)\n",
      "Requirement already satisfied: tensorboard-data-server<0.8.0,>=0.7.0 in /home/dolaposalim/tensorflow-env/lib/python3.12/site-packages (from tensorboard~=2.19.0->tensorflow) (0.7.2)\n",
      "Requirement already satisfied: werkzeug>=1.0.1 in /home/dolaposalim/tensorflow-env/lib/python3.12/site-packages (from tensorboard~=2.19.0->tensorflow) (3.1.3)\n",
      "Requirement already satisfied: MarkupSafe>=2.1.1 in /home/dolaposalim/tensorflow-env/lib/python3.12/site-packages (from werkzeug>=1.0.1->tensorboard~=2.19.0->tensorflow) (3.0.2)\n",
      "Requirement already satisfied: markdown-it-py>=2.2.0 in /home/dolaposalim/tensorflow-env/lib/python3.12/site-packages (from rich->keras>=3.5.0->tensorflow) (3.0.0)\n",
      "Requirement already satisfied: pygments<3.0.0,>=2.13.0 in /home/dolaposalim/tensorflow-env/lib/python3.12/site-packages (from rich->keras>=3.5.0->tensorflow) (2.19.1)\n",
      "Requirement already satisfied: mdurl~=0.1 in /home/dolaposalim/tensorflow-env/lib/python3.12/site-packages (from markdown-it-py>=2.2.0->rich->keras>=3.5.0->tensorflow) (0.1.2)\n",
      "Note: you may need to restart the kernel to use updated packages.\n"
     ]
    }
   ],
   "source": [
    "%pip install tensorflow opencv-python matplotlib"
   ]
  },
  {
   "cell_type": "code",
   "execution_count": 2,
   "id": "7212a7bd",
   "metadata": {},
   "outputs": [
    {
     "name": "stdout",
     "output_type": "stream",
     "text": [
      "Package                 Version\n",
      "----------------------- -----------\n",
      "absl-py                 2.2.2\n",
      "asttokens               3.0.0\n",
      "astunparse              1.6.3\n",
      "certifi                 2025.1.31\n",
      "charset-normalizer      3.4.1\n",
      "comm                    0.2.2\n",
      "contourpy               1.3.2\n",
      "cycler                  0.12.1\n",
      "debugpy                 1.8.14\n",
      "decorator               5.2.1\n",
      "executing               2.2.0\n",
      "flatbuffers             25.2.10\n",
      "fonttools               4.57.0\n",
      "gast                    0.6.0\n",
      "google-pasta            0.2.0\n",
      "grpcio                  1.71.0\n",
      "h5py                    3.13.0\n",
      "idna                    3.10\n",
      "ipykernel               6.29.5\n",
      "ipython                 9.1.0\n",
      "ipython_pygments_lexers 1.1.1\n",
      "jedi                    0.19.2\n",
      "jupyter_client          8.6.3\n",
      "jupyter_core            5.7.2\n",
      "keras                   3.9.2\n",
      "kiwisolver              1.4.8\n",
      "libclang                18.1.1\n",
      "Markdown                3.7\n",
      "markdown-it-py          3.0.0\n",
      "MarkupSafe              3.0.2\n",
      "matplotlib              3.10.1\n",
      "matplotlib-inline       0.1.7\n",
      "mdurl                   0.1.2\n",
      "ml_dtypes               0.5.1\n",
      "namex                   0.0.8\n",
      "nest-asyncio            1.6.0\n",
      "numpy                   2.1.3\n",
      "opencv-python           4.11.0.86\n",
      "opt_einsum              3.4.0\n",
      "optree                  0.15.0\n",
      "packaging               24.2\n",
      "parso                   0.8.4\n",
      "pexpect                 4.9.0\n",
      "pillow                  11.2.1\n",
      "pip                     25.0.1\n",
      "platformdirs            4.3.7\n",
      "prompt_toolkit          3.0.51\n",
      "protobuf                5.29.4\n",
      "psutil                  7.0.0\n",
      "ptyprocess              0.7.0\n",
      "pure_eval               0.2.3\n",
      "Pygments                2.19.1\n",
      "pyparsing               3.2.3\n",
      "python-dateutil         2.9.0.post0\n",
      "pyzmq                   26.4.0\n",
      "requests                2.32.3\n",
      "rich                    14.0.0\n",
      "setuptools              78.1.0\n",
      "six                     1.17.0\n",
      "stack-data              0.6.3\n",
      "tensorboard             2.19.0\n",
      "tensorboard-data-server 0.7.2\n",
      "tensorflow              2.19.0\n",
      "termcolor               3.0.1\n",
      "tornado                 6.4.2\n",
      "traitlets               5.14.3\n",
      "typing_extensions       4.13.2\n",
      "urllib3                 2.4.0\n",
      "wcwidth                 0.2.13\n",
      "Werkzeug                3.1.3\n",
      "wheel                   0.45.1\n",
      "wrapt                   1.17.2\n",
      "Note: you may need to restart the kernel to use updated packages.\n"
     ]
    }
   ],
   "source": [
    "%pip list"
   ]
  },
  {
   "cell_type": "code",
   "execution_count": 9,
   "id": "b6517b94",
   "metadata": {},
   "outputs": [],
   "source": [
    "# Import the required dependencies\n",
    "import tensorflow as tf\n",
    "import os"
   ]
  },
  {
   "cell_type": "code",
   "execution_count": 21,
   "id": "ce3cbf85",
   "metadata": {},
   "outputs": [
    {
     "name": "stdout",
     "output_type": "stream",
     "text": [
      "Current working directory is: /home/dolaposalim/tensorflow-env/fila/filadentification/scr\n"
     ]
    }
   ],
   "source": [
    "#check and print the current Working Directory\n",
    "wrk_dir = os.getcwd()\n",
    "print(f\"Current working directory is: {wrk_dir}\")"
   ]
  },
  {
   "cell_type": "code",
   "execution_count": 22,
   "id": "19121647",
   "metadata": {},
   "outputs": [
    {
     "name": "stdout",
     "output_type": "stream",
     "text": [
      "New working directory is: /home/dolaposalim/tensorflow-env/fila/filadentification\n"
     ]
    }
   ],
   "source": [
    "# Create a preferred working directory\n",
    "wrk_dir_new = os.chdir(\"/home/dolaposalim/tensorflow-env/fila/filadentification\")\n",
    "print(f\"New working directory is: {os.getcwd()}\")"
   ]
  },
  {
   "cell_type": "code",
   "execution_count": null,
   "id": "15d6d15e",
   "metadata": {},
   "outputs": [],
   "source": []
  },
  {
   "cell_type": "code",
   "execution_count": null,
   "id": "517df19b",
   "metadata": {},
   "outputs": [],
   "source": [
    "for image in os.listdir(wrk_dir"
   ]
  }
 ],
 "metadata": {
  "kernelspec": {
   "display_name": "tensorflow-env",
   "language": "python",
   "name": "python3"
  },
  "language_info": {
   "codemirror_mode": {
    "name": "ipython",
    "version": 3
   },
   "file_extension": ".py",
   "mimetype": "text/x-python",
   "name": "python",
   "nbconvert_exporter": "python",
   "pygments_lexer": "ipython3",
   "version": "3.12.3"
  }
 },
 "nbformat": 4,
 "nbformat_minor": 5
}
